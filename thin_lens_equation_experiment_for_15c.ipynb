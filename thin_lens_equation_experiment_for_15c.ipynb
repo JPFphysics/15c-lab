{
  "nbformat": 4,
  "nbformat_minor": 0,
  "metadata": {
    "colab": {
      "name": "thin lens equation experiment for 15c",
      "provenance": [],
      "authorship_tag": "ABX9TyP/9WvG02e3q772ATi47s90",
      "include_colab_link": true
    },
    "kernelspec": {
      "name": "python3",
      "display_name": "Python 3"
    }
  },
  "cells": [
    {
      "cell_type": "markdown",
      "metadata": {
        "id": "view-in-github",
        "colab_type": "text"
      },
      "source": [
        "<a href=\"https://colab.research.google.com/github/JPFphysics/15c-lab/blob/master/thin_lens_equation_experiment_for_15c.ipynb\" target=\"_parent\"><img src=\"https://colab.research.google.com/assets/colab-badge.svg\" alt=\"Open In Colab\"/></a>"
      ]
    },
    {
      "cell_type": "markdown",
      "metadata": {
        "id": "5uC3YYWE_wl8",
        "colab_type": "text"
      },
      "source": [
        "## Thin lens equation experiment for 15c"
      ]
    },
    {
      "cell_type": "code",
      "metadata": {
        "id": "LsPkEv1b_ini",
        "colab_type": "code",
        "colab": {}
      },
      "source": [
        "%matplotlib inline\n",
        "import numpy as np\n",
        "import matplotlib.pyplot as plt\n",
        "from scipy.optimize import curve_fit\n",
        "\n",
        "\n",
        "#################################################################\n",
        "#                                                               #\n",
        "# You need to measure the following values of your own setup    #\n",
        "# and put in the code:                                          #\n",
        "#                                                               #\n",
        "# d_object, d_image, err_d_image.                               #\n",
        "#                                                               #\n",
        "# See the description of these values below.                    #\n",
        "#                                                               #\n",
        "#################################################################\n",
        "\n",
        "\n",
        "\n",
        "######################################\n",
        "# Input your own d_object here:      #\n",
        "#                                    #\n",
        "######################################\n",
        " d_object = np.array([50,45,40,35,30,25,20,18,16,14,12,10,9,8])     # distance between object and lens, in cm\n",
        "\n",
        "\n",
        "#######################################\n",
        "# Input your own d_image.    here:    #\n",
        "#                                     #\n",
        "#######################################\n",
        "d_image = np.array([7.4, 7.6, 7.9, 8.2, 8.4, 8.8, 9.7, 10.1, 10.9, 11.8, 13.8, 18.3, 22.3, 33.0])  # distance between image and lens, in cm\n",
        "\n",
        "\n",
        "###################################################\n",
        "# Input your own err_d_image here:                #\n",
        "#                                                 #\n",
        "###################################################\n",
        "err_d_image = np.array([0.2, 0.2, 0.2, 0.2, 0.2, 0.2, 0.2, 0.2, 0.2, 0.2, 0.5, 0.5, 0.5, 1.0])  # measurement error of d_image\n",
        "\n",
        "\n",
        "\n",
        "\n",
        "\n",
        "\n",
        "\n",
        "##########################################\n",
        "#                                        #\n",
        "# Don't need to change the lines below   #\n",
        "#                                        #\n",
        "##########################################              \n",
        "\n",
        "# calculate 1/d_object:\n",
        "x = 1/d_object\n",
        "\n",
        "# calculate 1/d_image:\n",
        "y = 1/d_image \n",
        "\n",
        "# calcluate the error of y, using error propagation:\n",
        "err_y = err_d_image/d_image**2\n",
        "\n",
        "\n",
        "# plot the data (y vs. x, or 1/d_image vs. 1/d_object)\n",
        "plt.figure(figsize=[10,7])\n",
        "plt.errorbar(x, y, err_y, fmt='o',ms=5, mec='g',capsize=3, label = 'measured data')\n",
        "plt.xlabel('1/d_object (1/cm)',fontsize=16)\n",
        "plt.ylabel('1/d_image (1/cm)',fontsize=16) \n",
        "plt.legend()\n",
        "\n",
        "\n",
        "# Do Chi-squared analysis:\n",
        "\n",
        "# define functions to calculate the reduced Chi square\n",
        "def ChiSquareReduced(y,yfit,error,v):\n",
        "    '''this function calculate reduced Chi Square of v parameter fit'''\n",
        "    ChiSquareReducedValue = np.sum((y-yfit)**2/error**2)/(len(y)-v)\n",
        "    return ChiSquareReducedValue\n",
        "# define functions to calculate the Chi square\n",
        "def ChiSquare(y,yfit,error):\n",
        "    '''this function calculate Chi Square'''\n",
        "    ChiSquareValue = np.sum((y-yfit)**2/error**2)\n",
        "    return ChiSquareValue\n",
        "\n",
        "# define a two parameter line \n",
        "def func(x, a, b):\n",
        "    return a * x + b\n",
        "\n",
        "# Find the best fit using scipy.optimize (curve_fit)\n",
        "popt, pcov = curve_fit(func, x, y, sigma=err_y ) # popt: Optimal values for the parameters, pcov: the estimated covariance of popt\n",
        "\n",
        "# Print the best fit parameters\n",
        "print ('slope =', popt[0], ' +/- ', np.sqrt(pcov[0,0]))\n",
        "print ('1/focal_length =', popt[1], ' +/- ', np.sqrt(pcov[1,1]) '1/cm')\n",
        "\n",
        "\n",
        "y_fit = popt[0]*x + popt[1]  # y calculated from curve fit\n",
        "\n",
        "chi_squared = ChiSquare(y, y_fit, err_y)  #chi squared value of the curve fit\n",
        "reduced_chi_squared = ChiSquareReduced(y, y_fit, err_y, 2)\n",
        "\n",
        "print('chi_squared of the curve fit =  ', chi_squared)\n",
        "print('reduced_chi_squared of the curve fit =  ', reduced_chi_squared)\n",
        "\n",
        "# plot the measured data and curve fit together\n",
        "plt.figure(figsize=[10,7])\n",
        "plt.errorbar(x, y, err_y, fmt='o',ms=5, mec='g',capsize=3, label = 'measured data')\n",
        "plt.plot(x, y_fit, label = 'fitted curve')\n",
        "plt.xlabel('1/d_object (1/cm)',fontsize=16)\n",
        "plt.ylabel('1/d_image (1/cm)',fontsize=16) \n",
        "plt.legend()\n"
      ],
      "execution_count": null,
      "outputs": []
    },
    {
      "cell_type": "markdown",
      "metadata": {
        "id": "vHpPm0Ts_uNA",
        "colab_type": "text"
      },
      "source": [
        ""
      ]
    }
  ]
}